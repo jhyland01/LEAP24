{
 "cells": [
  {
   "cell_type": "code",
   "execution_count": 1,
   "metadata": {},
   "outputs": [
    {
     "name": "stdout",
     "output_type": "stream",
     "text": [
      "float64\n",
      "float64\n",
      "float64\n",
      "float64\n",
      "float64\n",
      "float64\n",
      "float64\n",
      "float64\n",
      "float64\n",
      "float64\n",
      "float64\n",
      "float64\n",
      "float64\n",
      "float64\n",
      "float64\n",
      "float64\n",
      "float64\n",
      "float64\n",
      "float64\n",
      "float64\n",
      "float64\n",
      "float64\n",
      "float64\n",
      "float64\n",
      "float64\n",
      "float64\n",
      "float64\n",
      "float64\n",
      "float64\n",
      "float64\n",
      "float64\n",
      "float64\n",
      "float64\n",
      "float64\n",
      "float64\n",
      "float64\n",
      "float64\n",
      "float64\n",
      "float64\n",
      "float64\n",
      "float64\n",
      "float64\n",
      "float64\n",
      "float64\n",
      "float64\n",
      "float64\n",
      "float64\n",
      "float64\n",
      "float64\n",
      "float64\n",
      "float64\n",
      "float64\n",
      "float64\n",
      "float64\n",
      "float64\n",
      "float64\n",
      "float64\n",
      "float64\n",
      "float64\n",
      "float64\n",
      "float64\n",
      "float64\n",
      "float64\n",
      "float64\n",
      "float64\n",
      "float64\n",
      "float64\n",
      "float64\n",
      "float64\n",
      "float64\n",
      "float64\n",
      "float64\n",
      "float64\n",
      "float64\n",
      "float64\n",
      "float64\n",
      "float64\n",
      "float64\n",
      "float64\n",
      "float64\n",
      "float64\n",
      "float64\n",
      "float64\n",
      "float64\n",
      "float64\n",
      "float64\n",
      "float64\n",
      "float64\n",
      "float64\n",
      "float64\n",
      "float64\n",
      "float64\n",
      "float64\n",
      "float64\n",
      "float64\n",
      "float64\n",
      "float64\n",
      "float64\n",
      "float64\n",
      "float64\n",
      "float64\n"
     ]
    }
   ],
   "source": [
    "import pandas as pd\n",
    "import numpy as np\n",
    "import os\n",
    "\n",
    "def split_csv_to_npy(file_path, output_dir, num_splits=100):\n",
    "    # Create output directory if it doesn't exist\n",
    "    os.makedirs(output_dir, exist_ok=True)\n",
    "\n",
    "    # Read the CSV file in chunks\n",
    "    chunk_size = sum(1 for _ in open(file_path)) // num_splits\n",
    "    reader = pd.read_csv(file_path, chunksize=chunk_size)\n",
    "    \n",
    "    for i, chunk in enumerate(reader):\n",
    "        output_file_path = os.path.join(output_dir, f\"split_{i+1}.npy\")\n",
    "        # drop first column\n",
    "        chunk = chunk.drop(columns=['sample_id'])\n",
    "        # print dytype of first value\n",
    "        print(chunk.iloc[0, 0].dtype)\n",
    "        # float64\n",
    "        np.save(output_file_path, chunk.to_numpy(dtype=np.float64))\n",
    "\n",
    "file_path = '/Users/johnny/Library/CloudStorage/OneDrive-Personal/py/Kaggle/LEAP24/leap-atmospheric-physics-ai-climsim/train.csv'\n",
    "output_dir = 'data'\n",
    "split_csv_to_npy(file_path, output_dir)\n"
   ]
  },
  {
   "cell_type": "code",
   "execution_count": 3,
   "metadata": {},
   "outputs": [
    {
     "name": "stdout",
     "output_type": "stream",
     "text": [
      "False\n"
     ]
    }
   ],
   "source": [
    "# read in first two numpy files and check they are different\n",
    "data1 = np.load('data/split_1.npy', allow_pickle=True)\n",
    "data2 = np.load('data/split_2.npy', allow_pickle=True)\n",
    "print(np.array_equal(data1, data2))"
   ]
  },
  {
   "cell_type": "code",
   "execution_count": 4,
   "metadata": {},
   "outputs": [
    {
     "data": {
      "text/plain": [
       "array([['train_0', 213.8061166794635, 222.244453587245, ..., 0.0, 0.0,\n",
       "        0.0],\n",
       "       ['train_1', 213.1774304066023, 225.85106385056233, ..., 0.0, 0.0,\n",
       "        0.0],\n",
       "       ['train_2', 217.10568468034265, 220.4481062698203, ..., 0.0, 0.0,\n",
       "        0.0],\n",
       "       ...,\n",
       "       ['train_100912', 203.5538624339522, 216.88421343446524, ...,\n",
       "        1.1103500296656998, 88.4243031478503, 53.83306208269856],\n",
       "       ['train_100913', 212.56680028356732, 218.4848703853314, ...,\n",
       "        1.770070731201617e-05, 49.11668802212261, 21.297366258694986],\n",
       "       ['train_100914', 213.0707867739323, 239.08998490551025, ...,\n",
       "        2.676930924040468, 69.36176158724021, 33.562610576003394]],\n",
       "      dtype=object)"
      ]
     },
     "execution_count": 4,
     "metadata": {},
     "output_type": "execute_result"
    }
   ],
   "source": [
    "data1"
   ]
  },
  {
   "cell_type": "code",
   "execution_count": 5,
   "metadata": {},
   "outputs": [
    {
     "data": {
      "text/plain": [
       "array([['train_100915', 217.5056569478074, 234.4656033986976, ...,\n",
       "        1.1116438913505918e-06, 44.70181261492533, 23.06849313302865],\n",
       "       ['train_100916', 208.7552819830381, 218.46540625113624, ...,\n",
       "        50.23396555863203, 100.15199107500295, 82.96246496086663],\n",
       "       ['train_100917', 204.80159427065524, 217.48031793406477, ...,\n",
       "        101.5541548279468, 116.0135032526622, 87.75762532476273],\n",
       "       ...,\n",
       "       ['train_201827', 213.71324270660168, 219.12477558147208, ...,\n",
       "        25.837917827920258, 19.212915133991373, 4.243274342061765],\n",
       "       ['train_201828', 213.80436169920975, 216.30072578454337, ..., 0.0,\n",
       "        0.0, 0.0],\n",
       "       ['train_201829', 215.31885006710513, 223.6294177318382, ..., 0.0,\n",
       "        0.0, 0.0]], dtype=object)"
      ]
     },
     "execution_count": 5,
     "metadata": {},
     "output_type": "execute_result"
    }
   ],
   "source": [
    "data2"
   ]
  },
  {
   "cell_type": "code",
   "execution_count": 6,
   "metadata": {},
   "outputs": [
    {
     "data": {
      "text/plain": [
       "(100915, 925)"
      ]
     },
     "execution_count": 6,
     "metadata": {},
     "output_type": "execute_result"
    }
   ],
   "source": [
    "data1.shape"
   ]
  },
  {
   "cell_type": "code",
   "execution_count": null,
   "metadata": {},
   "outputs": [],
   "source": []
  }
 ],
 "metadata": {
  "kernelspec": {
   "display_name": "leap24",
   "language": "python",
   "name": "python3"
  },
  "language_info": {
   "codemirror_mode": {
    "name": "ipython",
    "version": 3
   },
   "file_extension": ".py",
   "mimetype": "text/x-python",
   "name": "python",
   "nbconvert_exporter": "python",
   "pygments_lexer": "ipython3",
   "version": "3.11.5"
  }
 },
 "nbformat": 4,
 "nbformat_minor": 2
}
