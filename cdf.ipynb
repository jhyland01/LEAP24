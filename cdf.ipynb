{
 "cells": [
  {
   "cell_type": "code",
   "execution_count": 1,
   "metadata": {},
   "outputs": [
    {
     "data": {
      "text/plain": [
       "<class 'netCDF4._netCDF4.Dataset'>\n",
       "root group (NETCDF3_64BIT_DATA data model, file format NETCDF3):\n",
       "    ne: 4\n",
       "    fv_nphys: 2\n",
       "    title: EAM History file information\n",
       "    source: E3SM Atmosphere Model\n",
       "    source_id: 4108bd8c11\n",
       "    product: model-output\n",
       "    realm: atmos\n",
       "    case: E3SM_ML.GNUGPU.F2010-MMF1.ne4pg2_ne4pg2\n",
       "    username: sungduk\n",
       "    hostname: pm-gpu\n",
       "    git_version: 4108bd8c11\n",
       "    history: Sun Jun  4 11:21:16 2023: ncks -x -C -v PS -O E3SM-MMF_ne4_grid-info.nc E3SM-MMF_ne4_grid-info.nc\n",
       "created on 01/13/23 15:30:04\n",
       "    Conventions: CF-1.7\n",
       "    institution_id: E3SM-Project\n",
       "    institution: LLNL (Lawrence Livermore National Laboratory, Livermore, CA 94550, USA); ANL (Argonne National Laboratory, Argonne, IL 60439, USA); BNL (Brookhaven National Laboratory, Upton, NY 11973, USA); LANL (Los Alamos National Laboratory, Los Alamos, NM 87545, USA); LBNL (Lawrence Berkeley National Laboratory, Berkeley, CA 94720, USA); ORNL (Oak Ridge National Laboratory, Oak Ridge, TN 37831, USA); PNNL (Pacific Northwest National Laboratory, Richland, WA 99352, USA); SNL (Sandia National Laboratories, Albuquerque, NM 87185, USA). Mailing address: LLNL Climate Program, c/o David C. Bader, Principal Investigator, L-103, 7000 East Avenue, Livermore, CA 94550, USA\n",
       "    contact: e3sm-data-support@listserv.llnl.gov\n",
       "    initial_file: /global/cfs/cdirs/e3sm/inputdata/atm/cam/inic/homme/eam_i_mam3_Linoz_ne4np4_L60_c20210917.nc\n",
       "    topography_file: /global/cfs/cdirs/e3sm/inputdata/atm/cam/topo/USGS-gtopo30_ne4np4pg2_16x_converted.c20200527.nc\n",
       "    time_period_freq: month_1\n",
       "    NCO: netCDF Operators version 5.1.5 (Homepage = http://nco.sf.net, Code = http://github.com/nco/nco)\n",
       "    dimensions(sizes): ncol(384), ilev(61), lev(60)\n",
       "    variables(dimensions): float64 P0(), float64 area(ncol), float64 hyai(ilev), float64 hyam(lev), float64 hybi(ilev), float64 hybm(lev), float64 ilev(ilev), float64 lat(ncol), float64 lev(lev), float64 lon(ncol)\n",
       "    groups: "
      ]
     },
     "execution_count": 1,
     "metadata": {},
     "output_type": "execute_result"
    }
   ],
   "source": [
    "import netCDF4 as nc\n",
    "\n",
    "ds = nc.Dataset(\"data/ClimSim_low-res_grid-info.nc\")\n",
    "\n",
    "ds"
   ]
  },
  {
   "cell_type": "code",
   "execution_count": 2,
   "metadata": {},
   "outputs": [
    {
     "data": {
      "text/plain": [
       "{'P0': <class 'netCDF4._netCDF4.Variable'>\n",
       " float64 P0()\n",
       "     long_name: reference pressure\n",
       "     units: Pa\n",
       " unlimited dimensions: \n",
       " current shape = ()\n",
       " filling on, default _FillValue of 9.969209968386869e+36 used,\n",
       " 'area': <class 'netCDF4._netCDF4.Variable'>\n",
       " float64 area(ncol)\n",
       "     long_name: physics grid areas\n",
       " unlimited dimensions: \n",
       " current shape = (384,)\n",
       " filling on, default _FillValue of 9.969209968386869e+36 used,\n",
       " 'hyai': <class 'netCDF4._netCDF4.Variable'>\n",
       " float64 hyai(ilev)\n",
       "     long_name: hybrid A coefficient at layer interfaces\n",
       " unlimited dimensions: \n",
       " current shape = (61,)\n",
       " filling on, default _FillValue of 9.969209968386869e+36 used,\n",
       " 'hyam': <class 'netCDF4._netCDF4.Variable'>\n",
       " float64 hyam(lev)\n",
       "     long_name: hybrid A coefficient at layer midpoints\n",
       " unlimited dimensions: \n",
       " current shape = (60,)\n",
       " filling on, default _FillValue of 9.969209968386869e+36 used,\n",
       " 'hybi': <class 'netCDF4._netCDF4.Variable'>\n",
       " float64 hybi(ilev)\n",
       "     long_name: hybrid B coefficient at layer interfaces\n",
       " unlimited dimensions: \n",
       " current shape = (61,)\n",
       " filling on, default _FillValue of 9.969209968386869e+36 used,\n",
       " 'hybm': <class 'netCDF4._netCDF4.Variable'>\n",
       " float64 hybm(lev)\n",
       "     long_name: hybrid B coefficient at layer midpoints\n",
       " unlimited dimensions: \n",
       " current shape = (60,)\n",
       " filling on, default _FillValue of 9.969209968386869e+36 used,\n",
       " 'ilev': <class 'netCDF4._netCDF4.Variable'>\n",
       " float64 ilev(ilev)\n",
       "     long_name: hybrid level at interfaces (1000*(A+B))\n",
       "     units: hPa\n",
       "     positive: down\n",
       "     standard_name: atmosphere_hybrid_sigma_pressure_coordinate\n",
       "     formula_terms: a: hyai b: hybi p0: P0 ps: PS\n",
       " unlimited dimensions: \n",
       " current shape = (61,)\n",
       " filling on, default _FillValue of 9.969209968386869e+36 used,\n",
       " 'lat': <class 'netCDF4._netCDF4.Variable'>\n",
       " float64 lat(ncol)\n",
       "     long_name: latitude\n",
       "     units: degrees_north\n",
       " unlimited dimensions: \n",
       " current shape = (384,)\n",
       " filling on, default _FillValue of 9.969209968386869e+36 used,\n",
       " 'lev': <class 'netCDF4._netCDF4.Variable'>\n",
       " float64 lev(lev)\n",
       "     long_name: hybrid level at midpoints (1000*(A+B))\n",
       "     units: hPa\n",
       "     positive: down\n",
       "     standard_name: atmosphere_hybrid_sigma_pressure_coordinate\n",
       "     formula_terms: a: hyam b: hybm p0: P0 ps: PS\n",
       " unlimited dimensions: \n",
       " current shape = (60,)\n",
       " filling on, default _FillValue of 9.969209968386869e+36 used,\n",
       " 'lon': <class 'netCDF4._netCDF4.Variable'>\n",
       " float64 lon(ncol)\n",
       "     long_name: longitude\n",
       "     units: degrees_east\n",
       " unlimited dimensions: \n",
       " current shape = (384,)\n",
       " filling on, default _FillValue of 9.969209968386869e+36 used}"
      ]
     },
     "execution_count": 2,
     "metadata": {},
     "output_type": "execute_result"
    }
   ],
   "source": [
    "ds.variables"
   ]
  },
  {
   "cell_type": "code",
   "execution_count": null,
   "metadata": {},
   "outputs": [],
   "source": []
  }
 ],
 "metadata": {
  "kernelspec": {
   "display_name": "leap24",
   "language": "python",
   "name": "python3"
  },
  "language_info": {
   "codemirror_mode": {
    "name": "ipython",
    "version": 3
   },
   "file_extension": ".py",
   "mimetype": "text/x-python",
   "name": "python",
   "nbconvert_exporter": "python",
   "pygments_lexer": "ipython3",
   "version": "3.10.13"
  }
 },
 "nbformat": 4,
 "nbformat_minor": 2
}
